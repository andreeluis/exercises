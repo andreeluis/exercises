{
  "cells": [
    {
      "cell_type": "code",
      "execution_count": 1,
      "metadata": {
        "colab": {
          "base_uri": "https://localhost:8080/"
        },
        "id": "2bZM-_AsBVca",
        "outputId": "eb562175-4c00-425a-8bcc-91b37581f866"
      },
      "outputs": [],
      "source": [
        "import pandas as pd\n",
        "from apyori import apriori"
      ]
    },
    {
      "cell_type": "code",
      "execution_count": 2,
      "metadata": {
        "colab": {
          "base_uri": "https://localhost:8080/",
          "height": 268
        },
        "id": "fGx34zCzBkw1",
        "outputId": "374599c5-d21a-4db9-d0f3-b459a86a910a"
      },
      "outputs": [
        {
          "name": "stdout",
          "output_type": "stream",
          "text": [
            "(10, 7)\n"
          ]
        },
        {
          "data": {
            "text/html": [
              "<div>\n",
              "<style scoped>\n",
              "    .dataframe tbody tr th:only-of-type {\n",
              "        vertical-align: middle;\n",
              "    }\n",
              "\n",
              "    .dataframe tbody tr th {\n",
              "        vertical-align: top;\n",
              "    }\n",
              "\n",
              "    .dataframe thead th {\n",
              "        text-align: right;\n",
              "    }\n",
              "</style>\n",
              "<table border=\"1\" class=\"dataframe\">\n",
              "  <thead>\n",
              "    <tr style=\"text-align: right;\">\n",
              "      <th></th>\n",
              "      <th>0</th>\n",
              "      <th>1</th>\n",
              "      <th>2</th>\n",
              "      <th>3</th>\n",
              "      <th>4</th>\n",
              "      <th>5</th>\n",
              "      <th>6</th>\n",
              "    </tr>\n",
              "  </thead>\n",
              "  <tbody>\n",
              "    <tr>\n",
              "      <th>0</th>\n",
              "      <td>NaN</td>\n",
              "      <td>coffee</td>\n",
              "      <td>NaN</td>\n",
              "      <td>bread</td>\n",
              "      <td>butter</td>\n",
              "      <td>NaN</td>\n",
              "      <td>NaN</td>\n",
              "    </tr>\n",
              "    <tr>\n",
              "      <th>1</th>\n",
              "      <td>milk</td>\n",
              "      <td>NaN</td>\n",
              "      <td>beer</td>\n",
              "      <td>bread</td>\n",
              "      <td>butter</td>\n",
              "      <td>NaN</td>\n",
              "      <td>NaN</td>\n",
              "    </tr>\n",
              "    <tr>\n",
              "      <th>2</th>\n",
              "      <td>NaN</td>\n",
              "      <td>coffee</td>\n",
              "      <td>NaN</td>\n",
              "      <td>bread</td>\n",
              "      <td>butter</td>\n",
              "      <td>NaN</td>\n",
              "      <td>NaN</td>\n",
              "    </tr>\n",
              "    <tr>\n",
              "      <th>3</th>\n",
              "      <td>milk</td>\n",
              "      <td>coffee</td>\n",
              "      <td>NaN</td>\n",
              "      <td>bread</td>\n",
              "      <td>butter</td>\n",
              "      <td>NaN</td>\n",
              "      <td>NaN</td>\n",
              "    </tr>\n",
              "    <tr>\n",
              "      <th>4</th>\n",
              "      <td>NaN</td>\n",
              "      <td>NaN</td>\n",
              "      <td>beer</td>\n",
              "      <td>NaN</td>\n",
              "      <td>NaN</td>\n",
              "      <td>NaN</td>\n",
              "      <td>NaN</td>\n",
              "    </tr>\n",
              "    <tr>\n",
              "      <th>5</th>\n",
              "      <td>NaN</td>\n",
              "      <td>NaN</td>\n",
              "      <td>NaN</td>\n",
              "      <td>NaN</td>\n",
              "      <td>butter</td>\n",
              "      <td>NaN</td>\n",
              "      <td>NaN</td>\n",
              "    </tr>\n",
              "    <tr>\n",
              "      <th>6</th>\n",
              "      <td>NaN</td>\n",
              "      <td>NaN</td>\n",
              "      <td>NaN</td>\n",
              "      <td>bread</td>\n",
              "      <td>NaN</td>\n",
              "      <td>NaN</td>\n",
              "      <td>NaN</td>\n",
              "    </tr>\n",
              "    <tr>\n",
              "      <th>7</th>\n",
              "      <td>NaN</td>\n",
              "      <td>NaN</td>\n",
              "      <td>NaN</td>\n",
              "      <td>NaN</td>\n",
              "      <td>NaN</td>\n",
              "      <td>NaN</td>\n",
              "      <td>bean</td>\n",
              "    </tr>\n",
              "    <tr>\n",
              "      <th>8</th>\n",
              "      <td>NaN</td>\n",
              "      <td>NaN</td>\n",
              "      <td>NaN</td>\n",
              "      <td>NaN</td>\n",
              "      <td>NaN</td>\n",
              "      <td>rice</td>\n",
              "      <td>bean</td>\n",
              "    </tr>\n",
              "    <tr>\n",
              "      <th>9</th>\n",
              "      <td>NaN</td>\n",
              "      <td>NaN</td>\n",
              "      <td>NaN</td>\n",
              "      <td>NaN</td>\n",
              "      <td>NaN</td>\n",
              "      <td>rice</td>\n",
              "      <td>NaN</td>\n",
              "    </tr>\n",
              "  </tbody>\n",
              "</table>\n",
              "</div>"
            ],
            "text/plain": [
              "      0       1     2      3       4     5     6\n",
              "0   NaN  coffee   NaN  bread  butter   NaN   NaN\n",
              "1  milk     NaN  beer  bread  butter   NaN   NaN\n",
              "2   NaN  coffee   NaN  bread  butter   NaN   NaN\n",
              "3  milk  coffee   NaN  bread  butter   NaN   NaN\n",
              "4   NaN     NaN  beer    NaN     NaN   NaN   NaN\n",
              "5   NaN     NaN   NaN    NaN  butter   NaN   NaN\n",
              "6   NaN     NaN   NaN  bread     NaN   NaN   NaN\n",
              "7   NaN     NaN   NaN    NaN     NaN   NaN  bean\n",
              "8   NaN     NaN   NaN    NaN     NaN  rice  bean\n",
              "9   NaN     NaN   NaN    NaN     NaN  rice   NaN"
            ]
          },
          "execution_count": 2,
          "metadata": {},
          "output_type": "execute_result"
        }
      ],
      "source": [
        "base = pd.read_csv(\"./supermarket.csv\", sep=\",\", encoding=\"utf-8\", header=None)\n",
        "print(base.shape)\n",
        "base"
      ]
    },
    {
      "cell_type": "code",
      "execution_count": 3,
      "metadata": {
        "id": "ZF8i0EdWCMjY"
      },
      "outputs": [
        {
          "data": {
            "text/plain": [
              "[['nan', 'coffee', 'nan', 'bread', 'butter', 'nan', 'nan'],\n",
              " ['milk', 'nan', 'beer', 'bread', 'butter', 'nan', 'nan'],\n",
              " ['nan', 'coffee', 'nan', 'bread', 'butter', 'nan', 'nan'],\n",
              " ['milk', 'coffee', 'nan', 'bread', 'butter', 'nan', 'nan'],\n",
              " ['nan', 'nan', 'beer', 'nan', 'nan', 'nan', 'nan'],\n",
              " ['nan', 'nan', 'nan', 'nan', 'butter', 'nan', 'nan'],\n",
              " ['nan', 'nan', 'nan', 'bread', 'nan', 'nan', 'nan'],\n",
              " ['nan', 'nan', 'nan', 'nan', 'nan', 'nan', 'bean'],\n",
              " ['nan', 'nan', 'nan', 'nan', 'nan', 'rice', 'bean'],\n",
              " ['nan', 'nan', 'nan', 'nan', 'nan', 'rice', 'nan']]"
            ]
          },
          "execution_count": 3,
          "metadata": {},
          "output_type": "execute_result"
        }
      ],
      "source": [
        "base_list = []\n",
        "for i in range(len(base)):\n",
        "  base_list.append([str(base.values[i, j]) for j in range(base.shape[1])])\n",
        "\n",
        "base_list"
      ]
    },
    {
      "cell_type": "code",
      "execution_count": 4,
      "metadata": {
        "colab": {
          "base_uri": "https://localhost:8080/"
        },
        "id": "DuX5YuabzqfQ",
        "outputId": "a1b2c83c-b59a-4d8a-f571-497332f55288"
      },
      "outputs": [
        {
          "name": "stdout",
          "output_type": "stream",
          "text": [
            "12\n",
            "[RelationRecord(items=frozenset({'nan'}), support=1.0, ordered_statistics=[OrderedStatistic(items_base=frozenset(), items_add=frozenset({'nan'}), confidence=1.0, lift=1.0)]), RelationRecord(items=frozenset({'butter', 'bread'}), support=0.4, ordered_statistics=[OrderedStatistic(items_base=frozenset({'bread'}), items_add=frozenset({'butter'}), confidence=0.8, lift=1.6), OrderedStatistic(items_base=frozenset({'butter'}), items_add=frozenset({'bread'}), confidence=0.8, lift=1.6)]), RelationRecord(items=frozenset({'coffee', 'bread'}), support=0.3, ordered_statistics=[OrderedStatistic(items_base=frozenset({'coffee'}), items_add=frozenset({'bread'}), confidence=1.0, lift=2.0)]), RelationRecord(items=frozenset({'nan', 'bread'}), support=0.5, ordered_statistics=[OrderedStatistic(items_base=frozenset({'bread'}), items_add=frozenset({'nan'}), confidence=1.0, lift=1.0)]), RelationRecord(items=frozenset({'coffee', 'butter'}), support=0.3, ordered_statistics=[OrderedStatistic(items_base=frozenset({'coffee'}), items_add=frozenset({'butter'}), confidence=1.0, lift=2.0)]), RelationRecord(items=frozenset({'nan', 'butter'}), support=0.5, ordered_statistics=[OrderedStatistic(items_base=frozenset({'butter'}), items_add=frozenset({'nan'}), confidence=1.0, lift=1.0)]), RelationRecord(items=frozenset({'coffee', 'nan'}), support=0.3, ordered_statistics=[OrderedStatistic(items_base=frozenset({'coffee'}), items_add=frozenset({'nan'}), confidence=1.0, lift=1.0)]), RelationRecord(items=frozenset({'coffee', 'butter', 'bread'}), support=0.3, ordered_statistics=[OrderedStatistic(items_base=frozenset({'coffee'}), items_add=frozenset({'butter', 'bread'}), confidence=1.0, lift=2.5), OrderedStatistic(items_base=frozenset({'coffee', 'bread'}), items_add=frozenset({'butter'}), confidence=1.0, lift=2.0), OrderedStatistic(items_base=frozenset({'coffee', 'butter'}), items_add=frozenset({'bread'}), confidence=1.0, lift=2.0)]), RelationRecord(items=frozenset({'nan', 'butter', 'bread'}), support=0.4, ordered_statistics=[OrderedStatistic(items_base=frozenset({'bread'}), items_add=frozenset({'nan', 'butter'}), confidence=0.8, lift=1.6), OrderedStatistic(items_base=frozenset({'butter'}), items_add=frozenset({'nan', 'bread'}), confidence=0.8, lift=1.6), OrderedStatistic(items_base=frozenset({'butter', 'bread'}), items_add=frozenset({'nan'}), confidence=1.0, lift=1.0), OrderedStatistic(items_base=frozenset({'nan', 'bread'}), items_add=frozenset({'butter'}), confidence=0.8, lift=1.6), OrderedStatistic(items_base=frozenset({'nan', 'butter'}), items_add=frozenset({'bread'}), confidence=0.8, lift=1.6)]), RelationRecord(items=frozenset({'coffee', 'nan', 'bread'}), support=0.3, ordered_statistics=[OrderedStatistic(items_base=frozenset({'coffee'}), items_add=frozenset({'nan', 'bread'}), confidence=1.0, lift=2.0), OrderedStatistic(items_base=frozenset({'coffee', 'bread'}), items_add=frozenset({'nan'}), confidence=1.0, lift=1.0), OrderedStatistic(items_base=frozenset({'coffee', 'nan'}), items_add=frozenset({'bread'}), confidence=1.0, lift=2.0)]), RelationRecord(items=frozenset({'coffee', 'nan', 'butter'}), support=0.3, ordered_statistics=[OrderedStatistic(items_base=frozenset({'coffee'}), items_add=frozenset({'nan', 'butter'}), confidence=1.0, lift=2.0), OrderedStatistic(items_base=frozenset({'coffee', 'butter'}), items_add=frozenset({'nan'}), confidence=1.0, lift=1.0), OrderedStatistic(items_base=frozenset({'coffee', 'nan'}), items_add=frozenset({'butter'}), confidence=1.0, lift=2.0)]), RelationRecord(items=frozenset({'coffee', 'nan', 'butter', 'bread'}), support=0.3, ordered_statistics=[OrderedStatistic(items_base=frozenset({'coffee'}), items_add=frozenset({'nan', 'butter', 'bread'}), confidence=1.0, lift=2.5), OrderedStatistic(items_base=frozenset({'coffee', 'bread'}), items_add=frozenset({'nan', 'butter'}), confidence=1.0, lift=2.0), OrderedStatistic(items_base=frozenset({'coffee', 'butter'}), items_add=frozenset({'nan', 'bread'}), confidence=1.0, lift=2.0), OrderedStatistic(items_base=frozenset({'coffee', 'nan'}), items_add=frozenset({'butter', 'bread'}), confidence=1.0, lift=2.5), OrderedStatistic(items_base=frozenset({'coffee', 'butter', 'bread'}), items_add=frozenset({'nan'}), confidence=1.0, lift=1.0), OrderedStatistic(items_base=frozenset({'coffee', 'nan', 'bread'}), items_add=frozenset({'butter'}), confidence=1.0, lift=2.0), OrderedStatistic(items_base=frozenset({'coffee', 'nan', 'butter'}), items_add=frozenset({'bread'}), confidence=1.0, lift=2.0)])]\n"
          ]
        }
      ],
      "source": [
        "rules = list(apriori(base_list, min_support=0.3, min_confidence=0.8))\n",
        "print(len(rules))\n",
        "print(rules)"
      ]
    },
    {
      "cell_type": "code",
      "execution_count": 6,
      "metadata": {
        "id": "UWDno2uo4aL0"
      },
      "outputs": [
        {
          "data": {
            "text/html": [
              "<div>\n",
              "<style scoped>\n",
              "    .dataframe tbody tr th:only-of-type {\n",
              "        vertical-align: middle;\n",
              "    }\n",
              "\n",
              "    .dataframe tbody tr th {\n",
              "        vertical-align: top;\n",
              "    }\n",
              "\n",
              "    .dataframe thead th {\n",
              "        text-align: right;\n",
              "    }\n",
              "</style>\n",
              "<table border=\"1\" class=\"dataframe\">\n",
              "  <thead>\n",
              "    <tr style=\"text-align: right;\">\n",
              "      <th></th>\n",
              "      <th>Antecedent</th>\n",
              "      <th>Consequent</th>\n",
              "      <th>Support</th>\n",
              "      <th>Confidence</th>\n",
              "      <th>Lift</th>\n",
              "    </tr>\n",
              "  </thead>\n",
              "  <tbody>\n",
              "    <tr>\n",
              "      <th>2</th>\n",
              "      <td>[coffee]</td>\n",
              "      <td>[bread]</td>\n",
              "      <td>0.3</td>\n",
              "      <td>1.0</td>\n",
              "      <td>2.0</td>\n",
              "    </tr>\n",
              "    <tr>\n",
              "      <th>4</th>\n",
              "      <td>[coffee]</td>\n",
              "      <td>[butter, bread]</td>\n",
              "      <td>0.3</td>\n",
              "      <td>1.0</td>\n",
              "      <td>2.5</td>\n",
              "    </tr>\n",
              "    <tr>\n",
              "      <th>3</th>\n",
              "      <td>[coffee]</td>\n",
              "      <td>[butter]</td>\n",
              "      <td>0.3</td>\n",
              "      <td>1.0</td>\n",
              "      <td>2.0</td>\n",
              "    </tr>\n",
              "    <tr>\n",
              "      <th>5</th>\n",
              "      <td>[coffee, bread]</td>\n",
              "      <td>[butter]</td>\n",
              "      <td>0.3</td>\n",
              "      <td>1.0</td>\n",
              "      <td>2.0</td>\n",
              "    </tr>\n",
              "    <tr>\n",
              "      <th>6</th>\n",
              "      <td>[coffee, butter]</td>\n",
              "      <td>[bread]</td>\n",
              "      <td>0.3</td>\n",
              "      <td>1.0</td>\n",
              "      <td>2.0</td>\n",
              "    </tr>\n",
              "    <tr>\n",
              "      <th>1</th>\n",
              "      <td>[butter]</td>\n",
              "      <td>[bread]</td>\n",
              "      <td>0.4</td>\n",
              "      <td>0.8</td>\n",
              "      <td>1.6</td>\n",
              "    </tr>\n",
              "    <tr>\n",
              "      <th>0</th>\n",
              "      <td>[bread]</td>\n",
              "      <td>[butter]</td>\n",
              "      <td>0.4</td>\n",
              "      <td>0.8</td>\n",
              "      <td>1.6</td>\n",
              "    </tr>\n",
              "  </tbody>\n",
              "</table>\n",
              "</div>"
            ],
            "text/plain": [
              "         Antecedent       Consequent  Support  Confidence  Lift\n",
              "2          [coffee]          [bread]      0.3         1.0   2.0\n",
              "4          [coffee]  [butter, bread]      0.3         1.0   2.5\n",
              "3          [coffee]         [butter]      0.3         1.0   2.0\n",
              "5   [coffee, bread]         [butter]      0.3         1.0   2.0\n",
              "6  [coffee, butter]          [bread]      0.3         1.0   2.0\n",
              "1          [butter]          [bread]      0.4         0.8   1.6\n",
              "0           [bread]         [butter]      0.4         0.8   1.6"
            ]
          },
          "execution_count": 6,
          "metadata": {},
          "output_type": "execute_result"
        }
      ],
      "source": [
        "antecedents = []\n",
        "consequents = []\n",
        "supports = []\n",
        "confidences = []\n",
        "lifts = []\n",
        "\n",
        "association_rules_final = []\n",
        "\n",
        "for rule in rules:\n",
        "\tsupport = rule[1]\n",
        "\trule_details = rule[2]\n",
        "\n",
        "\tfor rule_detail in rule_details:\n",
        "\t\tantecedent = list(rule_detail[0])\n",
        "\t\tconsequent = list(rule_detail[1])\n",
        "\t\tconfidence = rule_detail[2]\n",
        "\t\tlift = rule_detail[3]\n",
        "\n",
        "\t\t# Skip invalid or empty rules\n",
        "\t\tif 'nan' in antecedent or 'nan' in consequent:\n",
        "\t\t\tcontinue\n",
        "\t\tif len(antecedent) == 0 or len(consequent) == 0:\n",
        "\t\t\tcontinue\n",
        "\n",
        "\t\t# Append rule components to respective lists\n",
        "\t\tantecedents.append(antecedent)\n",
        "\t\tconsequents.append(consequent)\n",
        "\t\tsupports.append(support)\n",
        "\t\tconfidences.append(confidence)\n",
        "\t\tlifts.append(lift)\n",
        "\n",
        "# Create a clean DataFrame of the rules\n",
        "association_rules_final = pd.DataFrame({\n",
        "\t'Antecedent': antecedents,\n",
        "\t'Consequent': consequents,\n",
        "\t'Support': supports,\n",
        "\t'Confidence': confidences,\n",
        "\t'Lift': lifts\n",
        "})\n",
        "\n",
        "# Display the final rules table\n",
        "association_rules_final.sort_values(by=\"Confidence\", ascending=False)"
      ]
    }
  ],
  "metadata": {
    "colab": {
      "provenance": []
    },
    "kernelspec": {
      "display_name": ".venv",
      "language": "python",
      "name": "python3"
    },
    "language_info": {
      "codemirror_mode": {
        "name": "ipython",
        "version": 3
      },
      "file_extension": ".py",
      "mimetype": "text/x-python",
      "name": "python",
      "nbconvert_exporter": "python",
      "pygments_lexer": "ipython3",
      "version": "3.11.11"
    }
  },
  "nbformat": 4,
  "nbformat_minor": 0
}
