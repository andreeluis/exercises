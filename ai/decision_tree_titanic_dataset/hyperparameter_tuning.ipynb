{
  "cells": [
    {
      "cell_type": "code",
      "execution_count": 3,
      "metadata": {
        "id": "ru9xg6QIaceV"
      },
      "outputs": [],
      "source": [
        "import matplotlib.pyplot as plt\n",
        "import pickle\n",
        "from sklearn import tree\n",
        "from sklearn.metrics import precision_score, recall_score, f1_score, confusion_matrix, ConfusionMatrixDisplay\n",
        "from sklearn.model_selection import GridSearchCV, RandomizedSearchCV\n",
        "from sklearn.tree import DecisionTreeClassifier\n",
        "from skopt import BayesSearchCV"
      ]
    },
    {
      "cell_type": "markdown",
      "metadata": {},
      "source": [
        "**Opening the training and test sets to `.pkl` file**"
      ]
    },
    {
      "cell_type": "code",
      "execution_count": 4,
      "metadata": {
        "id": "STeZ46Y4bKfl"
      },
      "outputs": [],
      "source": [
        "with open('./data/base.pkl', 'rb') as f:\n",
        "\tx_train, x_test, y_train, y_test = pickle.load(f)"
      ]
    },
    {
      "cell_type": "markdown",
      "metadata": {},
      "source": [
        "**Setting up the hyperparameters for model tuning**"
      ]
    },
    {
      "cell_type": "code",
      "execution_count": 12,
      "metadata": {
        "id": "YSMEiSuhc-Cc"
      },
      "outputs": [
        {
          "name": "stdout",
          "output_type": "stream",
          "text": [
            "Grid search best parameters: {'criterion': 'entropy', 'max_depth': 4, 'max_features': None}\n",
            "Grid search best score: 0.8188380281690142\n",
            "Random search best parameters: {'max_features': 'sqrt', 'max_depth': 8, 'criterion': 'entropy'}\n",
            "Random search best score: 0.8061815336463225\n",
            "Bayes search best parameters: OrderedDict([('criterion', 'entropy'), ('max_depth', 4), ('max_features', 0.6)])\n",
            "Bayes search best score: 0.8174687010954618\n"
          ]
        }
      ],
      "source": [
        "grid_search_model = GridSearchCV(\n",
        "\testimator=DecisionTreeClassifier(),\n",
        "\tparam_grid={\n",
        "\t\t'criterion':  ['gini', 'entropy'],\n",
        "\t\t'max_depth':  [None, 2, 4, 6, 8],\n",
        "\t\t'max_features': [None, 'sqrt', 'log2', 0.2, 0.4, 0.6, 0.8],\n",
        "\t},\n",
        "\tcv=10,\n",
        "\tn_jobs=5,\n",
        "\tverbose=0,\n",
        ")\n",
        "\n",
        "grid_search_model.fit(x_train, y_train)\n",
        "\n",
        "print(f'Grid search best parameters: {grid_search_model.best_params_}')\n",
        "print(f'Grid search best score: {grid_search_model.best_score_}')\n",
        "\n",
        "random_search_model = RandomizedSearchCV(\n",
        "\testimator=DecisionTreeClassifier(),\n",
        "\tparam_distributions={\n",
        "\t\t'criterion':  ['gini', 'entropy'],\n",
        "\t\t'max_depth':  [None, 2, 4, 6, 8],\n",
        "\t\t'max_features': [None, 'sqrt', 'log2', 0.2, 0.4, 0.6, 0.8],\n",
        "\t},\n",
        "\tcv=10,\n",
        "\tn_jobs=5,\n",
        "\tverbose=0,\n",
        ")\n",
        "\n",
        "random_search_model.fit(x_train, y_train)\n",
        "\n",
        "print(f'Random search best parameters: {random_search_model.best_params_}')\n",
        "print(f'Random search best score: {random_search_model.best_score_}')\n",
        "\n",
        "bayes_search_model = BayesSearchCV(\n",
        "\testimator=DecisionTreeClassifier(),\n",
        "\tsearch_spaces={\n",
        "\t\t'criterion':  ['gini', 'entropy'],\n",
        "\t\t'max_depth':  [None, 2, 4, 6, 8],\n",
        "\t\t'max_features': [None, 'sqrt', 'log2', 0.2, 0.4, 0.6, 0.8],\n",
        "\t},\n",
        "\tcv=10,\n",
        "\tn_jobs=5,\n",
        "\tverbose=0,\n",
        "\tn_iter=15,\n",
        ")\n",
        "\n",
        "bayes_search_model.fit(x_train, y_train)\n",
        "\n",
        "print(f'Bayes search best parameters: {bayes_search_model.best_params_}')\n",
        "print(f'Bayes search best score: {bayes_search_model.best_score_}')"
      ]
    }
  ],
  "metadata": {
    "colab": {
      "collapsed_sections": [],
      "provenance": []
    },
    "kernelspec": {
      "display_name": ".venv",
      "language": "python",
      "name": "python3"
    },
    "language_info": {
      "codemirror_mode": {
        "name": "ipython",
        "version": 3
      },
      "file_extension": ".py",
      "mimetype": "text/x-python",
      "name": "python",
      "nbconvert_exporter": "python",
      "pygments_lexer": "ipython3",
      "version": "3.11.11"
    }
  },
  "nbformat": 4,
  "nbformat_minor": 0
}
