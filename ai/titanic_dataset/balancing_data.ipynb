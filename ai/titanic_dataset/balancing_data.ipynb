{
  "cells": [
    {
      "cell_type": "code",
      "execution_count": 1,
      "metadata": {
        "id": "kkOvJnL-P1QQ"
      },
      "outputs": [],
      "source": [
        "import matplotlib.pyplot as plt\n",
        "import numpy as np\n",
        "import pandas as pd\n",
        "import seaborn as sns\n",
        "from imblearn.over_sampling import SMOTE\n",
        "from imblearn.under_sampling import RandomUnderSampler, TomekLinks\n",
        "from sklearn import tree\n",
        "from sklearn.metrics import precision_score, recall_score, f1_score, confusion_matrix, ConfusionMatrixDisplay\n",
        "from sklearn.model_selection import train_test_split\n",
        "from sklearn.preprocessing import LabelEncoder\n",
        "from sklearn.tree import DecisionTreeClassifier\n",
        "from skopt import BayesSearchCV"
      ]
    },
    {
      "cell_type": "markdown",
      "metadata": {
        "id": "A5YB5ubEQfaE"
      },
      "source": [
        "**Opening `.csv` database file**"
      ]
    },
    {
      "cell_type": "code",
      "execution_count": 2,
      "metadata": {
        "id": "3rzDkhcBQddF"
      },
      "outputs": [
        {
          "data": {
            "text/html": [
              "<div>\n",
              "<style scoped>\n",
              "    .dataframe tbody tr th:only-of-type {\n",
              "        vertical-align: middle;\n",
              "    }\n",
              "\n",
              "    .dataframe tbody tr th {\n",
              "        vertical-align: top;\n",
              "    }\n",
              "\n",
              "    .dataframe thead th {\n",
              "        text-align: right;\n",
              "    }\n",
              "</style>\n",
              "<table border=\"1\" class=\"dataframe\">\n",
              "  <thead>\n",
              "    <tr style=\"text-align: right;\">\n",
              "      <th></th>\n",
              "      <th>Survived</th>\n",
              "      <th>Pclass</th>\n",
              "      <th>Sex</th>\n",
              "      <th>Age</th>\n",
              "      <th>SibSp</th>\n",
              "      <th>Parch</th>\n",
              "      <th>Fare</th>\n",
              "    </tr>\n",
              "  </thead>\n",
              "  <tbody>\n",
              "    <tr>\n",
              "      <th>0</th>\n",
              "      <td>0</td>\n",
              "      <td>3</td>\n",
              "      <td>male</td>\n",
              "      <td>22.0</td>\n",
              "      <td>1</td>\n",
              "      <td>0</td>\n",
              "      <td>7.2500</td>\n",
              "    </tr>\n",
              "    <tr>\n",
              "      <th>1</th>\n",
              "      <td>1</td>\n",
              "      <td>1</td>\n",
              "      <td>female</td>\n",
              "      <td>38.0</td>\n",
              "      <td>1</td>\n",
              "      <td>0</td>\n",
              "      <td>71.2833</td>\n",
              "    </tr>\n",
              "    <tr>\n",
              "      <th>2</th>\n",
              "      <td>1</td>\n",
              "      <td>3</td>\n",
              "      <td>female</td>\n",
              "      <td>26.0</td>\n",
              "      <td>0</td>\n",
              "      <td>0</td>\n",
              "      <td>7.9250</td>\n",
              "    </tr>\n",
              "    <tr>\n",
              "      <th>3</th>\n",
              "      <td>1</td>\n",
              "      <td>1</td>\n",
              "      <td>female</td>\n",
              "      <td>35.0</td>\n",
              "      <td>1</td>\n",
              "      <td>0</td>\n",
              "      <td>53.1000</td>\n",
              "    </tr>\n",
              "    <tr>\n",
              "      <th>4</th>\n",
              "      <td>0</td>\n",
              "      <td>3</td>\n",
              "      <td>male</td>\n",
              "      <td>35.0</td>\n",
              "      <td>0</td>\n",
              "      <td>0</td>\n",
              "      <td>8.0500</td>\n",
              "    </tr>\n",
              "  </tbody>\n",
              "</table>\n",
              "</div>"
            ],
            "text/plain": [
              "   Survived  Pclass     Sex   Age  SibSp  Parch     Fare\n",
              "0         0       3    male  22.0      1      0   7.2500\n",
              "1         1       1  female  38.0      1      0  71.2833\n",
              "2         1       3  female  26.0      0      0   7.9250\n",
              "3         1       1  female  35.0      1      0  53.1000\n",
              "4         0       3    male  35.0      0      0   8.0500"
            ]
          },
          "execution_count": 2,
          "metadata": {},
          "output_type": "execute_result"
        }
      ],
      "source": [
        "base = pd.read_csv('./data/train.csv').drop(columns=['PassengerId', 'Name', 'Ticket', 'Cabin', 'Embarked'])\n",
        "base.head()"
      ]
    },
    {
      "cell_type": "markdown",
      "metadata": {},
      "source": [
        "**Check if contains `null` values**"
      ]
    },
    {
      "cell_type": "code",
      "execution_count": 3,
      "metadata": {},
      "outputs": [
        {
          "name": "stdout",
          "output_type": "stream",
          "text": [
            "Survived      0\n",
            "Pclass        0\n",
            "Sex           0\n",
            "Age         177\n",
            "SibSp         0\n",
            "Parch         0\n",
            "Fare          0\n",
            "dtype: int64\n"
          ]
        }
      ],
      "source": [
        "print(base.isnull().sum())"
      ]
    },
    {
      "cell_type": "markdown",
      "metadata": {},
      "source": [
        "**Processing `null` values`**"
      ]
    },
    {
      "cell_type": "code",
      "execution_count": 4,
      "metadata": {},
      "outputs": [
        {
          "name": "stdout",
          "output_type": "stream",
          "text": [
            "Survived    0\n",
            "Pclass      0\n",
            "Sex         0\n",
            "Age         0\n",
            "SibSp       0\n",
            "Parch       0\n",
            "Fare        0\n",
            "dtype: int64\n",
            "(714, 7)\n"
          ]
        }
      ],
      "source": [
        "if base.isnull().sum().sum() > 0:\n",
        "\tbase = base.dropna()\n",
        "\n",
        "print(base.isnull().sum())\n",
        "print(base.shape)"
      ]
    },
    {
      "cell_type": "markdown",
      "metadata": {
        "id": "nnxpN2abg5eN"
      },
      "source": [
        "**Counting the number of classes in the database**"
      ]
    },
    {
      "cell_type": "code",
      "execution_count": 5,
      "metadata": {
        "colab": {
          "base_uri": "https://localhost:8080/"
        },
        "id": "xgR2Os49WO3d",
        "outputId": "9c635981-921d-4d91-a6e6-f64f389f4eee"
      },
      "outputs": [
        {
          "name": "stdout",
          "output_type": "stream",
          "text": [
            "(array([0, 1]), array([424, 290]))\n"
          ]
        },
        {
          "data": {
            "image/png": "[encoded data removed]",
            "text/plain": [
              "<Figure size 640x480 with 1 Axes>"
            ]
          },
          "metadata": {},
          "output_type": "display_data"
        }
      ],
      "source": [
        "classification = base.columns[0]\n",
        "print(np.unique(base[classification], return_counts=True))\n",
        "\n",
        "plt.show(sns.countplot(x = base[classification]))"
      ]
    },
    {
      "cell_type": "markdown",
      "metadata": {
        "id": "xeaEnJuOij1V"
      },
      "source": [
        "**Categorical data encoding**\n",
        "- `LabelEncoder` - For treat the categorical data by placing 1, 2, 3 etc.\n",
        "- `OneHotEncoder` - For treat the categorical data by creating a column for each category (non-ordinal).\n"
      ]
    },
    {
      "cell_type": "code",
      "execution_count": 6,
      "metadata": {
        "id": "bJftEzSbiorG"
      },
      "outputs": [
        {
          "name": "stdout",
          "output_type": "stream",
          "text": [
            "shape: (714, 7)\n"
          ]
        },
        {
          "data": {
            "text/html": [
              "<div>\n",
              "<style scoped>\n",
              "    .dataframe tbody tr th:only-of-type {\n",
              "        vertical-align: middle;\n",
              "    }\n",
              "\n",
              "    .dataframe tbody tr th {\n",
              "        vertical-align: top;\n",
              "    }\n",
              "\n",
              "    .dataframe thead th {\n",
              "        text-align: right;\n",
              "    }\n",
              "</style>\n",
              "<table border=\"1\" class=\"dataframe\">\n",
              "  <thead>\n",
              "    <tr style=\"text-align: right;\">\n",
              "      <th></th>\n",
              "      <th>Survived</th>\n",
              "      <th>Pclass</th>\n",
              "      <th>Sex</th>\n",
              "      <th>Age</th>\n",
              "      <th>SibSp</th>\n",
              "      <th>Parch</th>\n",
              "      <th>Fare</th>\n",
              "    </tr>\n",
              "  </thead>\n",
              "  <tbody>\n",
              "    <tr>\n",
              "      <th>0</th>\n",
              "      <td>0</td>\n",
              "      <td>3</td>\n",
              "      <td>1</td>\n",
              "      <td>22.0</td>\n",
              "      <td>1</td>\n",
              "      <td>0</td>\n",
              "      <td>7.2500</td>\n",
              "    </tr>\n",
              "    <tr>\n",
              "      <th>1</th>\n",
              "      <td>1</td>\n",
              "      <td>1</td>\n",
              "      <td>0</td>\n",
              "      <td>38.0</td>\n",
              "      <td>1</td>\n",
              "      <td>0</td>\n",
              "      <td>71.2833</td>\n",
              "    </tr>\n",
              "    <tr>\n",
              "      <th>2</th>\n",
              "      <td>1</td>\n",
              "      <td>3</td>\n",
              "      <td>0</td>\n",
              "      <td>26.0</td>\n",
              "      <td>0</td>\n",
              "      <td>0</td>\n",
              "      <td>7.9250</td>\n",
              "    </tr>\n",
              "    <tr>\n",
              "      <th>3</th>\n",
              "      <td>1</td>\n",
              "      <td>1</td>\n",
              "      <td>0</td>\n",
              "      <td>35.0</td>\n",
              "      <td>1</td>\n",
              "      <td>0</td>\n",
              "      <td>53.1000</td>\n",
              "    </tr>\n",
              "    <tr>\n",
              "      <th>4</th>\n",
              "      <td>0</td>\n",
              "      <td>3</td>\n",
              "      <td>1</td>\n",
              "      <td>35.0</td>\n",
              "      <td>0</td>\n",
              "      <td>0</td>\n",
              "      <td>8.0500</td>\n",
              "    </tr>\n",
              "  </tbody>\n",
              "</table>\n",
              "</div>"
            ],
            "text/plain": [
              "   Survived  Pclass  Sex   Age  SibSp  Parch     Fare\n",
              "0         0       3    1  22.0      1      0   7.2500\n",
              "1         1       1    0  38.0      1      0  71.2833\n",
              "2         1       3    0  26.0      0      0   7.9250\n",
              "3         1       1    0  35.0      1      0  53.1000\n",
              "4         0       3    1  35.0      0      0   8.0500"
            ]
          },
          "execution_count": 6,
          "metadata": {},
          "output_type": "execute_result"
        }
      ],
      "source": [
        "columns_label_encode = ['Sex']\n",
        "base[columns_label_encode] = base[columns_label_encode].apply(LabelEncoder().fit_transform)\n",
        "\n",
        "print(f'shape: {base.shape}')\n",
        "base.head()"
      ]
    },
    {
      "cell_type": "markdown",
      "metadata": {},
      "source": [
        "**Splitting the dataset into x (features) and y (target)**"
      ]
    },
    {
      "cell_type": "code",
      "execution_count": 7,
      "metadata": {},
      "outputs": [
        {
          "name": "stdout",
          "output_type": "stream",
          "text": [
            "x shape: (714, 6)\n"
          ]
        },
        {
          "data": {
            "text/html": [
              "<div>\n",
              "<style scoped>\n",
              "    .dataframe tbody tr th:only-of-type {\n",
              "        vertical-align: middle;\n",
              "    }\n",
              "\n",
              "    .dataframe tbody tr th {\n",
              "        vertical-align: top;\n",
              "    }\n",
              "\n",
              "    .dataframe thead th {\n",
              "        text-align: right;\n",
              "    }\n",
              "</style>\n",
              "<table border=\"1\" class=\"dataframe\">\n",
              "  <thead>\n",
              "    <tr style=\"text-align: right;\">\n",
              "      <th></th>\n",
              "      <th>Pclass</th>\n",
              "      <th>Sex</th>\n",
              "      <th>Age</th>\n",
              "      <th>SibSp</th>\n",
              "      <th>Parch</th>\n",
              "      <th>Fare</th>\n",
              "    </tr>\n",
              "  </thead>\n",
              "  <tbody>\n",
              "    <tr>\n",
              "      <th>0</th>\n",
              "      <td>3</td>\n",
              "      <td>1</td>\n",
              "      <td>22.0</td>\n",
              "      <td>1</td>\n",
              "      <td>0</td>\n",
              "      <td>7.2500</td>\n",
              "    </tr>\n",
              "    <tr>\n",
              "      <th>1</th>\n",
              "      <td>1</td>\n",
              "      <td>0</td>\n",
              "      <td>38.0</td>\n",
              "      <td>1</td>\n",
              "      <td>0</td>\n",
              "      <td>71.2833</td>\n",
              "    </tr>\n",
              "    <tr>\n",
              "      <th>2</th>\n",
              "      <td>3</td>\n",
              "      <td>0</td>\n",
              "      <td>26.0</td>\n",
              "      <td>0</td>\n",
              "      <td>0</td>\n",
              "      <td>7.9250</td>\n",
              "    </tr>\n",
              "    <tr>\n",
              "      <th>3</th>\n",
              "      <td>1</td>\n",
              "      <td>0</td>\n",
              "      <td>35.0</td>\n",
              "      <td>1</td>\n",
              "      <td>0</td>\n",
              "      <td>53.1000</td>\n",
              "    </tr>\n",
              "    <tr>\n",
              "      <th>4</th>\n",
              "      <td>3</td>\n",
              "      <td>1</td>\n",
              "      <td>35.0</td>\n",
              "      <td>0</td>\n",
              "      <td>0</td>\n",
              "      <td>8.0500</td>\n",
              "    </tr>\n",
              "  </tbody>\n",
              "</table>\n",
              "</div>"
            ],
            "text/plain": [
              "   Pclass  Sex   Age  SibSp  Parch     Fare\n",
              "0       3    1  22.0      1      0   7.2500\n",
              "1       1    0  38.0      1      0  71.2833\n",
              "2       3    0  26.0      0      0   7.9250\n",
              "3       1    0  35.0      1      0  53.1000\n",
              "4       3    1  35.0      0      0   8.0500"
            ]
          },
          "execution_count": 7,
          "metadata": {},
          "output_type": "execute_result"
        }
      ],
      "source": [
        "x = base.drop(columns=[classification])\n",
        "\n",
        "print(f'x shape: {x.shape}')\n",
        "x.head()"
      ]
    },
    {
      "cell_type": "code",
      "execution_count": 8,
      "metadata": {},
      "outputs": [
        {
          "name": "stdout",
          "output_type": "stream",
          "text": [
            "y shape: (714, 1)\n"
          ]
        },
        {
          "data": {
            "text/html": [
              "<div>\n",
              "<style scoped>\n",
              "    .dataframe tbody tr th:only-of-type {\n",
              "        vertical-align: middle;\n",
              "    }\n",
              "\n",
              "    .dataframe tbody tr th {\n",
              "        vertical-align: top;\n",
              "    }\n",
              "\n",
              "    .dataframe thead th {\n",
              "        text-align: right;\n",
              "    }\n",
              "</style>\n",
              "<table border=\"1\" class=\"dataframe\">\n",
              "  <thead>\n",
              "    <tr style=\"text-align: right;\">\n",
              "      <th></th>\n",
              "      <th>Survived</th>\n",
              "    </tr>\n",
              "  </thead>\n",
              "  <tbody>\n",
              "    <tr>\n",
              "      <th>0</th>\n",
              "      <td>0</td>\n",
              "    </tr>\n",
              "    <tr>\n",
              "      <th>1</th>\n",
              "      <td>1</td>\n",
              "    </tr>\n",
              "    <tr>\n",
              "      <th>2</th>\n",
              "      <td>1</td>\n",
              "    </tr>\n",
              "    <tr>\n",
              "      <th>3</th>\n",
              "      <td>1</td>\n",
              "    </tr>\n",
              "    <tr>\n",
              "      <th>4</th>\n",
              "      <td>0</td>\n",
              "    </tr>\n",
              "  </tbody>\n",
              "</table>\n",
              "</div>"
            ],
            "text/plain": [
              "   Survived\n",
              "0         0\n",
              "1         1\n",
              "2         1\n",
              "3         1\n",
              "4         0"
            ]
          },
          "execution_count": 8,
          "metadata": {},
          "output_type": "execute_result"
        }
      ],
      "source": [
        "y = base.drop(columns=x.columns)\n",
        "\n",
        "print(f'y shape: {y.shape}')\n",
        "y.head()"
      ]
    },
    {
      "cell_type": "markdown",
      "metadata": {},
      "source": [
        "**Splitting the dataset into training and test sets**"
      ]
    },
    {
      "cell_type": "code",
      "execution_count": 9,
      "metadata": {},
      "outputs": [
        {
          "name": "stdout",
          "output_type": "stream",
          "text": [
            "x_train shape: (571, 6)\n",
            "y_train shape: (571, 1)\n",
            "x_test shape: (143, 6)\n",
            "y_test shape: (143, 1)\n"
          ]
        }
      ],
      "source": [
        "x_train, x_test, y_train, y_test = train_test_split(x, y, test_size=0.2, random_state=42)\n",
        "\n",
        "print(f'x_train shape: {x_train.shape}')\n",
        "print(f'y_train shape: {y_train.shape}')\n",
        "\n",
        "print(f'x_test shape: {x_test.shape}')\n",
        "print(f'y_test shape: {y_test.shape}')"
      ]
    },
    {
      "cell_type": "markdown",
      "metadata": {},
      "source": [
        "**Balancing the dataset**\n",
        "- `SMOTE` - Synthetic Minority Over\n",
        "- `TomekLinks` - Tomek Links\n",
        "- `RandomUnderSampler` - Random under-sampling"
      ]
    },
    {
      "cell_type": "code",
      "execution_count": 10,
      "metadata": {},
      "outputs": [
        {
          "data": {
            "image/png": "[encoded data removed]",
            "text/plain": [
              "<Figure size 640x480 with 1 Axes>"
            ]
          },
          "metadata": {},
          "output_type": "display_data"
        },
        {
          "name": "stdout",
          "output_type": "stream",
          "text": [
            "(array([0, 1]), array([337, 337]))\n",
            "x_train_smote shape: (674, 6)\n",
            "y_train_smote shape: (674, 1)\n",
            "\n"
          ]
        },
        {
          "data": {
            "image/png": "[encoded data removed]",
            "text/plain": [
              "<Figure size 640x480 with 1 Axes>"
            ]
          },
          "metadata": {},
          "output_type": "display_data"
        },
        {
          "name": "stdout",
          "output_type": "stream",
          "text": [
            "(array([0, 1]), array([285, 234]))\n",
            "x_train_tomek shape: (519, 6)\n",
            "y_train_tomek shape: (519, 1)\n",
            "\n"
          ]
        },
        {
          "data": {
            "image/png": "[encoded data removed]",
            "text/plain": [
              "<Figure size 640x480 with 1 Axes>"
            ]
          },
          "metadata": {},
          "output_type": "display_data"
        },
        {
          "name": "stdout",
          "output_type": "stream",
          "text": [
            "(array([0, 1]), array([234, 234]))\n",
            "x_train_rus shape: (468, 6)\n",
            "y_train_rus shape: (468, 1)\n"
          ]
        }
      ],
      "source": [
        "smote = SMOTE(random_state=42)\n",
        "x_train_smote, y_train_smote = smote.fit_resample(x_train, y_train)\n",
        "\n",
        "plt.show(sns.countplot(x = y_train_smote[classification]))\n",
        "print(np.unique(y_train_smote[classification], return_counts=True))\n",
        "print(f'x_train_smote shape: {x_train_smote.shape}')\n",
        "print(f'y_train_smote shape: {y_train_smote.shape}\\n')\n",
        "\n",
        "\n",
        "tomek = TomekLinks()\n",
        "x_train_tomek, y_train_tomek = tomek.fit_resample(x_train, y_train)\n",
        "\n",
        "plt.show(sns.countplot(x = y_train_tomek[classification]))\n",
        "print(np.unique(y_train_tomek[classification], return_counts=True))\n",
        "print(f'x_train_tomek shape: {x_train_tomek.shape}')\n",
        "print(f'y_train_tomek shape: {y_train_tomek.shape}\\n')\n",
        "\n",
        "rus = RandomUnderSampler(random_state=42)\n",
        "x_train_rus, y_train_rus = rus.fit_resample(x_train, y_train)\n",
        "\n",
        "plt.show(sns.countplot(x = y_train_rus[classification]))\n",
        "print(np.unique(y_train_rus[classification], return_counts=True))\n",
        "print(f'x_train_rus shape: {x_train_rus.shape}')\n",
        "print(f'y_train_rus shape: {y_train_rus.shape}')"
      ]
    },
    {
      "cell_type": "markdown",
      "metadata": {},
      "source": [
        "**Testing models with `DecisionTreeClassifier`**"
      ]
    },
    {
      "cell_type": "code",
      "execution_count": null,
      "metadata": {},
      "outputs": [
        {
          "name": "stderr",
          "output_type": "stream",
          "text": [
            "/home/andrels/projects/exercises/ai/.venv/lib/python3.11/site-packages/skopt/optimizer/optimizer.py:517: UserWarning: The objective has been evaluated at point [np.str_('gini'), np.int64(8), np.str_('sqrt')] before, using random point ['entropy', None, 'sqrt']\n",
            "  warnings.warn(\n",
            "/home/andrels/projects/exercises/ai/.venv/lib/python3.11/site-packages/skopt/optimizer/optimizer.py:517: UserWarning: The objective has been evaluated at point [np.str_('gini'), np.int64(8), np.str_('sqrt')] before, using random point ['gini', 8, 0.8]\n",
            "  warnings.warn(\n",
            "/home/andrels/projects/exercises/ai/.venv/lib/python3.11/site-packages/skopt/optimizer/optimizer.py:517: UserWarning: The objective has been evaluated at point [np.str_('gini'), np.int64(8), np.str_('sqrt')] before, using random point ['gini', 6, 'log2']\n",
            "  warnings.warn(\n",
            "/home/andrels/projects/exercises/ai/.venv/lib/python3.11/site-packages/skopt/optimizer/optimizer.py:517: UserWarning: The objective has been evaluated at point [np.str_('gini'), np.int64(8), np.str_('sqrt')] before, using random point ['entropy', 8, 'log2']\n",
            "  warnings.warn(\n",
            "/home/andrels/projects/exercises/ai/.venv/lib/python3.11/site-packages/skopt/optimizer/optimizer.py:517: UserWarning: The objective has been evaluated at point [np.str_('gini'), np.int64(8), np.str_('sqrt')] before, using random point ['gini', 2, 'log2']\n",
            "  warnings.warn(\n",
            "/home/andrels/projects/exercises/ai/.venv/lib/python3.11/site-packages/skopt/optimizer/optimizer.py:517: UserWarning: The objective has been evaluated at point [np.str_('gini'), np.int64(8), np.str_('sqrt')] before, using random point ['gini', None, 'sqrt']\n",
            "  warnings.warn(\n",
            "/home/andrels/projects/exercises/ai/.venv/lib/python3.11/site-packages/skopt/optimizer/optimizer.py:517: UserWarning: The objective has been evaluated at point [np.str_('gini'), np.int64(8), np.str_('sqrt')] before, using random point ['entropy', 2, 'log2']\n",
            "  warnings.warn(\n",
            "/home/andrels/projects/exercises/ai/.venv/lib/python3.11/site-packages/skopt/optimizer/optimizer.py:517: UserWarning: The objective has been evaluated at point [np.str_('gini'), np.int64(8), np.str_('sqrt')] before, using random point ['entropy', 8, 'sqrt']\n",
            "  warnings.warn(\n"
          ]
        },
        {
          "name": "stdout",
          "output_type": "stream",
          "text": [
            "OrderedDict([('criterion', 'gini'), ('max_depth', 8), ('max_features', 'sqrt')])\n",
            "0.8354916593503073\n"
          ]
        },
        {
          "name": "stderr",
          "output_type": "stream",
          "text": [
            "/home/andrels/projects/exercises/ai/.venv/lib/python3.11/site-packages/skopt/optimizer/optimizer.py:517: UserWarning: The objective has been evaluated at point [np.str_('gini'), np.int64(6), np.str_('sqrt')] before, using random point ['entropy', 4, 'log2']\n",
            "  warnings.warn(\n"
          ]
        },
        {
          "name": "stdout",
          "output_type": "stream",
          "text": [
            "OrderedDict([('criterion', 'gini'), ('max_depth', 6), ('max_features', 'sqrt')])\n",
            "0.832315233785822\n"
          ]
        },
        {
          "name": "stderr",
          "output_type": "stream",
          "text": [
            "/home/andrels/projects/exercises/ai/.venv/lib/python3.11/site-packages/skopt/optimizer/optimizer.py:517: UserWarning: The objective has been evaluated at point [np.str_('entropy'), np.int64(8), np.float64(0.4)] before, using random point ['entropy', 8, 0.2]\n",
            "  warnings.warn(\n",
            "/home/andrels/projects/exercises/ai/.venv/lib/python3.11/site-packages/skopt/optimizer/optimizer.py:517: UserWarning: The objective has been evaluated at point [np.str_('entropy'), np.int64(8), np.float64(0.4)] before, using random point ['entropy', 8, 0.4]\n",
            "  warnings.warn(\n"
          ]
        },
        {
          "name": "stdout",
          "output_type": "stream",
          "text": [
            "OrderedDict([('criterion', 'entropy'), ('max_depth', 4), ('max_features', 0.8)])\n",
            "0.7990286771507862\n"
          ]
        }
      ],
      "source": [
        "search_space = {\n",
        "\t'criterion':  ['gini', 'entropy'],\n",
        "\t'max_depth':  [None, 2, 4, 6, 8],\n",
        "\t'max_features': [None, 'sqrt', 'log2', 0.2, 0.4, 0.6, 0.8],\n",
        "}\n",
        "\n",
        "model = BayesSearchCV(\n",
        "\testimator=DecisionTreeClassifier(),\n",
        "\tsearch_spaces=search_space,\n",
        "\tcv=10,\n",
        "\tn_jobs=5,\n",
        "\tverbose=0,\n",
        "\tn_iter=30,\n",
        ")\n",
        "\n",
        "smote_model = model.fit(x_train_smote, y_train_smote)\n",
        "print(f'smote_model.best_params_: {smote_model.best_params_}')\n",
        "print(f'smote_model.best_score_: {smote_model.best_score_}')\n",
        "\n",
        "tomek_model = model.fit(x_train_tomek, y_train_tomek)\n",
        "print(f'tomek_model.best_params_: {tomek_model.best_params_}')\n",
        "print(f'tomek_model.best_score_: {tomek_model.best_score_}')\n",
        "\n",
        "rus_model = model.fit(x_train_rus, y_train_rus)\n",
        "print(f'rus_model.best_params_: {rus_model.best_params_}')\n",
        "print(f'rus_model.best_score_: {rus_model.best_score_}')"
      ]
    },
    {
      "cell_type": "markdown",
      "metadata": {},
      "source": [
        "**Running models with the best hyperparameters**"
      ]
    },
    {
      "cell_type": "code",
      "execution_count": 12,
      "metadata": {},
      "outputs": [
        {
          "name": "stdout",
          "output_type": "stream",
          "text": [
            "Train score: 0.8456973293768546\n",
            "Train score: 0.8477842003853564\n",
            "Train score: 0.8354700854700855\n"
          ]
        }
      ],
      "source": [
        "smote_model = smote_model.best_estimator_\n",
        "smote_model.fit(x_train_smote, y_train_smote)\n",
        "print(f'Train score: {smote_model.score(x_train_smote, y_train_smote)}')\n",
        "\n",
        "tomek_model = tomek_model.best_estimator_\n",
        "tomek_model.fit(x_train_tomek, y_train_tomek)\n",
        "print(f'Train score: {tomek_model.score(x_train_tomek, y_train_tomek)}')\n",
        "\n",
        "rus_model = rus_model.best_estimator_\n",
        "rus_model.fit(x_train_rus, y_train_rus)\n",
        "print(f'Train score: {rus_model.score(x_train_rus, y_train_rus)}')"
      ]
    },
    {
      "cell_type": "markdown",
      "metadata": {},
      "source": [
        "**Testing models on the test set**"
      ]
    },
    {
      "cell_type": "code",
      "execution_count": 13,
      "metadata": {},
      "outputs": [
        {
          "name": "stdout",
          "output_type": "stream",
          "text": [
            "Smote Precision: 60.00%\n",
            "Smote Recall: 80.36%\n",
            "Smote F1: 68.70%\n",
            "Tomek Precision: 60.00%\n",
            "Tomek Recall: 80.36%\n",
            "Tomek F1: 68.70%\n",
            "Rus Precision: 60.00%\n",
            "Rus Recall: 80.36%\n",
            "Rus F1: 68.70%\n"
          ]
        },
        {
          "data": {
            "image/png": "[encoded data removed]",
            "text/plain": [
              "<Figure size 640x480 with 1 Axes>"
            ]
          },
          "metadata": {},
          "output_type": "display_data"
        },
        {
          "data": {
            "image/png": "[encoded data removed]",
            "text/plain": [
              "<Figure size 640x480 with 1 Axes>"
            ]
          },
          "metadata": {},
          "output_type": "display_data"
        },
        {
          "data": {
            "image/png": "[encoded data removed]",
            "text/plain": [
              "<Figure size 640x480 with 1 Axes>"
            ]
          },
          "metadata": {},
          "output_type": "display_data"
        }
      ],
      "source": [
        "smote_predictions = smote_model.predict(x_test)\n",
        "smote_cm = confusion_matrix(y_test, smote_predictions)\n",
        "\n",
        "print(f'Smote Precision: {precision_score(y_test, smote_predictions) * 100:.2f}%')\n",
        "print(f'Smote Recall: {recall_score(y_test, smote_predictions) * 100:.2f}%')\n",
        "print(f'Smote F1: {f1_score(y_test, smote_predictions) * 100:.2f}%')\n",
        "\n",
        "disp = ConfusionMatrixDisplay(confusion_matrix=smote_cm, display_labels=smote_model.classes_)\n",
        "disp.plot(colorbar=False, cmap='Blues')\n",
        "plt.grid(False)\n",
        "\n",
        "tomek_predictions = tomek_model.predict(x_test)\n",
        "tomek_cm = confusion_matrix(y_test, tomek_predictions)\n",
        "\n",
        "print(f'Tomek Precision: {precision_score(y_test, tomek_predictions) * 100:.2f}%')\n",
        "print(f'Tomek Recall: {recall_score(y_test, tomek_predictions) * 100:.2f}%')\n",
        "print(f'Tomek F1: {f1_score(y_test, tomek_predictions) * 100:.2f}%')\n",
        "\n",
        "disp = ConfusionMatrixDisplay(confusion_matrix=tomek_cm, display_labels=tomek_model.classes_)\n",
        "disp.plot(colorbar=False, cmap='Blues')\n",
        "plt.grid(False)\n",
        "\n",
        "rus_predictions = rus_model.predict(x_test)\n",
        "rus_cm = confusion_matrix(y_test, rus_predictions)\n",
        "\n",
        "print(f'Rus Precision: {precision_score(y_test, rus_predictions) * 100:.2f}%')\n",
        "print(f'Rus Recall: {recall_score(y_test, rus_predictions) * 100:.2f}%')\n",
        "print(f'Rus F1: {f1_score(y_test, rus_predictions) * 100:.2f}%')\n",
        "\n",
        "disp = ConfusionMatrixDisplay(confusion_matrix=rus_cm, display_labels=rus_model.classes_)\n",
        "disp.plot(colorbar=False, cmap='Blues')\n",
        "plt.grid(False)"
      ]
    }
  ],
  "metadata": {
    "colab": {
      "provenance": []
    },
    "kernelspec": {
      "display_name": ".venv",
      "language": "python",
      "name": "python3"
    },
    "language_info": {
      "codemirror_mode": {
        "name": "ipython",
        "version": 3
      },
      "file_extension": ".py",
      "mimetype": "text/x-python",
      "name": "python",
      "nbconvert_exporter": "python",
      "pygments_lexer": "ipython3",
      "version": "3.11.11"
    }
  },
  "nbformat": 4,
  "nbformat_minor": 0
}
